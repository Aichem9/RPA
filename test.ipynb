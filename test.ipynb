{
 "cells": [
  {
   "cell_type": "code",
   "execution_count": 12,
   "metadata": {},
   "outputs": [
    {
     "ename": "ModuleNotFoundError",
     "evalue": "No module named 'sklearn'",
     "output_type": "error",
     "traceback": [
      "\u001b[1;31m---------------------------------------------------------------------------\u001b[0m",
      "\u001b[1;31mModuleNotFoundError\u001b[0m                       Traceback (most recent call last)",
      "Cell \u001b[1;32mIn[12], line 4\u001b[0m\n\u001b[0;32m      2\u001b[0m \u001b[39mimport\u001b[39;00m \u001b[39mpandas\u001b[39;00m \u001b[39mas\u001b[39;00m \u001b[39mpd\u001b[39;00m\n\u001b[0;32m      3\u001b[0m \u001b[39mimport\u001b[39;00m \u001b[39mnumpy\u001b[39;00m \u001b[39mas\u001b[39;00m \u001b[39mnp\u001b[39;00m\n\u001b[1;32m----> 4\u001b[0m \u001b[39mfrom\u001b[39;00m \u001b[39msklearn\u001b[39;00m\u001b[39m.\u001b[39;00m\u001b[39mmodel_selection\u001b[39;00m \u001b[39mimport\u001b[39;00m train_test_split\n\u001b[0;32m      5\u001b[0m \u001b[39mfrom\u001b[39;00m \u001b[39msklearn\u001b[39;00m\u001b[39m.\u001b[39;00m\u001b[39mlinear_model\u001b[39;00m \u001b[39mimport\u001b[39;00m LogisticRegression\n\u001b[0;32m      6\u001b[0m \u001b[39mfrom\u001b[39;00m \u001b[39msklearn\u001b[39;00m\u001b[39m.\u001b[39;00m\u001b[39mmetrics\u001b[39;00m \u001b[39mimport\u001b[39;00m accuracy_score\n",
      "\u001b[1;31mModuleNotFoundError\u001b[0m: No module named 'sklearn'"
     ]
    }
   ],
   "source": [
    "import streamlit as st\n",
    "import pandas as pd\n",
    "import numpy as np\n",
    "from sklearn.model_selection import train_test_split\n",
    "from sklearn.linear_model import LogisticRegression\n",
    "from sklearn.metrics import accuracy_score\n",
    "\n",
    "df = pd.DataFrame({\n",
    "    'Player 1': [1, 0, 1, 0, 1, 0, 1, 0, 1, 0],\n",
    "    'Player 2': [0, 1, 0, 1, 0, 1, 0, 1, 0, 1],\n",
    "    'Player 3': [1, 1, 0, 0, 1, 1, 0, 0, 1, 1],\n",
    "    'Player 4': [0, 0, 1, 1, 0, 0, 1, 1, 0, 0],\n",
    "    'Player 5': [1, 0, 0, 1, 1, 0, 0, 1, 1, 0],\n",
    "    'Player 6': [0, 1, 1, 0, 0, 1, 1, 0, 0, 1],\n",
    "    'Player 7': [1, 1, 1, 0, 0, 0, 0, 1, 1, 1],\n",
    "    'Player 8': [0, 0, 0, 1, 1, 1, 1, 0, 0, 0],\n",
    "    'Player 9': [1, 0, 1, 0, 1, 0, 1, 0, 1, 0],\n",
    "    'Player 10': [0, 1, 0, 1, 0, 1, 0, 1, 0, 1],\n",
    "})\n",
    "\n",
    "\n",
    "\n",
    "# 승률 예측 함수\n",
    "def predict_win_rate(player_id, player_record):\n",
    "    # 전체 데이터에서 해당 선수의 경기 기록만 추출합니다. \n",
    "    player_data = df.filter(regex=player_id)\n",
    "    \n",
    "    # X와 y로 데이터를 나눕니다. \n",
    "    X = player_data.drop(player_id, axis=1)\n",
    "    y = player_data[player_id]\n",
    "    \n",
    "    # 학습 데이터와 테스트 데이터로 나눕니다. \n",
    "    X_train, X_test, y_train, y_test = train_test_split(X, y, test_size=0.3, random_state=42)\n",
    "\n",
    "    # 로지스틱 회귀 모델을 만듭니다. \n",
    "    lr_model = LogisticRegression(random_state=42)\n",
    "\n",
    "    # 모델을 학습시킵니다. \n",
    "    lr_model.fit(X_train, y_train)\n",
    "\n",
    "    # 입력된 기록을 바탕으로 승률을 예측합니다. \n",
    "    win_rate = lr_model.predict_proba(np.array(player_record).reshape(1,-1))[0][1]\n",
    "\n",
    "    return win_rate\n",
    "\n",
    "# streamlit 앱 \n",
    "def main():\n",
    "    st.title('Win Rate Predictor')\n",
    "    st.write('This app predicts the win rate of a player based on their game records.')\n",
    "    \n",
    "    # 선수 선택 박스\n",
    "    player_id = st.selectbox('Select a player', df.columns)\n",
    "\n",
    "    # 경기 기록 입력\n",
    "    game1 = st.selectbox('Game 1', [0, 1])\n",
    "    game2 = st.selectbox('Game 2', [0, 1])\n",
    "    game3 = st.selectbox('Game 3', [0, 1])\n",
    "    game4 = st.selectbox('Game 4', [0, 1])\n",
    "    game5 = st.selectbox('Game 5', [0, 1])\n",
    "    game6 = st.selectbox('Game 6', [0, 1])\n",
    "    game7 = st.selectbox('Game 7', [0, 1])\n",
    "    game8 = st.selectbox('Game 8', [0, 1])\n",
    "    game9 = st.selectbox('Game 9', [0, 1])\n",
    "    game10 = st.selectbox('Game 10', [0, 1])\n",
    "\n",
    "    player_record = [game1, game2, game3, game4, game5, game6, game7, game8, game9, game10]\n",
    "    win_rate = predict_win_rate(player_id, player_record)\n",
    "    print('Win Rate:', round(win_rate*100, 2), '%')\n",
    "    \n",
    "if __name__ == '__main__':\n",
    "    main()\n"
   ]
  },
  {
   "cell_type": "code",
   "execution_count": null,
   "metadata": {},
   "outputs": [],
   "source": []
  }
 ],
 "metadata": {
  "kernelspec": {
   "display_name": "pytorch_sbh",
   "language": "python",
   "name": "python3"
  },
  "language_info": {
   "codemirror_mode": {
    "name": "ipython",
    "version": 3
   },
   "file_extension": ".py",
   "mimetype": "text/x-python",
   "name": "python",
   "nbconvert_exporter": "python",
   "pygments_lexer": "ipython3",
   "version": "3.10.9"
  },
  "orig_nbformat": 4
 },
 "nbformat": 4,
 "nbformat_minor": 2
}
